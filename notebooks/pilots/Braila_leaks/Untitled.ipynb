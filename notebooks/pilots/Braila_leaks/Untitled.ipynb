{
 "cells": [
  {
   "cell_type": "code",
   "execution_count": null,
   "id": "258177b3",
   "metadata": {},
   "outputs": [],
   "source": [
    "import pandas as pd\n",
    "import matplotlib.pyplot as plt"
   ]
  },
  {
   "cell_type": "code",
   "execution_count": null,
   "id": "648a8fa5",
   "metadata": {},
   "outputs": [],
   "source": [
    "data = pd.read_excel('PT1Complete_leak.ods')"
   ]
  },
  {
   "cell_type": "code",
   "execution_count": null,
   "id": "a19a2de1",
   "metadata": {},
   "outputs": [],
   "source": [
    "display(data)"
   ]
  },
  {
   "cell_type": "code",
   "execution_count": null,
   "id": "5b7f72fb",
   "metadata": {},
   "outputs": [],
   "source": [
    "fig, ax = plt.subplots(1, 1, figsize = (12, 5))\n",
    "plt.plot(data['t_stamp'], data['Inlet pressure (bars)'])\n",
    "#plt.plot(data['Outlet pressure (bars)'])"
   ]
  },
  {
   "cell_type": "code",
   "execution_count": null,
   "id": "d720d05b",
   "metadata": {},
   "outputs": [],
   "source": [
    "data = pd.read_excel('PT1_historical_2020.ods')\n",
    "display(data)\n",
    "\n",
    "fig, ax = plt.subplots(1, 1, figsize = (12, 5))\n",
    "plt.plot(data['timestamp'], data['Pressure (meters water)'])"
   ]
  },
  {
   "cell_type": "code",
   "execution_count": null,
   "id": "1af930b4",
   "metadata": {},
   "outputs": [],
   "source": []
  }
 ],
 "metadata": {
  "kernelspec": {
   "display_name": "Python 3",
   "language": "python",
   "name": "python3"
  },
  "language_info": {
   "codemirror_mode": {
    "name": "ipython",
    "version": 3
   },
   "file_extension": ".py",
   "mimetype": "text/x-python",
   "name": "python",
   "nbconvert_exporter": "python",
   "pygments_lexer": "ipython3",
   "version": "3.8.5"
  }
 },
 "nbformat": 4,
 "nbformat_minor": 5
}
