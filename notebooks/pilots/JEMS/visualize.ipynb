{
 "metadata": {
  "language_info": {
   "codemirror_mode": {
    "name": "ipython",
    "version": 3
   },
   "file_extension": ".py",
   "mimetype": "text/x-python",
   "name": "python",
   "nbconvert_exporter": "python",
   "pygments_lexer": "ipython3",
   "version": "3.8.0"
  },
  "orig_nbformat": 2,
  "kernelspec": {
   "name": "python380jvsc74a57bd0962e07b5078cd6dc30adb6d73dd27a95e9b6b13db2f80134fcc6a013dcd21ea6",
   "display_name": "Python 3.8.0 64-bit (conda)"
  }
 },
 "nbformat": 4,
 "nbformat_minor": 2,
 "cells": [
  {
   "cell_type": "code",
   "execution_count": null,
   "metadata": {},
   "outputs": [],
   "source": [
    "import pandas as pd\n",
    "import plotly.express as px\n",
    "import ast"
   ]
  },
  {
   "source": [
    "B100 sensor 53: 200 x2"
   ],
   "cell_type": "markdown",
   "metadata": {}
  },
  {
   "cell_type": "code",
   "execution_count": null,
   "metadata": {},
   "outputs": [],
   "source": [
    "res = pd.read_csv(\"log/B100_hour_SS_input_sensor53_welford_N100_X3.csv\", index_col=\"timestamp\")\n",
    "\n",
    "res[\"status_code\"] = res[\"status_code\"].astype(str)\n",
    "res[\"value\"] = res.value.apply(lambda x: ast.literal_eval(x)[0])\n",
    "\n",
    "fig = px.scatter(res, y=\"value\", color=\"status_code\", hover_data=['value'], color_discrete_sequence=[\"blue\", \"green\", \"yellow\", \"red\"])\n",
    "fig.show()"
   ]
  },
  {
   "cell_type": "code",
   "execution_count": null,
   "metadata": {},
   "outputs": [],
   "source": [
    "res = pd.read_csv(\"log/B100_hour_SS_input_sensor53_welford_N200_X2.csv\", index_col=\"timestamp\")\n",
    "\n",
    "res[\"status_code\"] = res[\"status_code\"].astype(str)\n",
    "res[\"value\"] = res.value.apply(lambda x: ast.literal_eval(x)[0])\n",
    "\n",
    "fig = px.scatter(res, y=\"value\", color=\"status_code\", hover_data=['value'], color_discrete_sequence=[\"blue\", \"green\", \"yellow\", \"red\"])\n",
    "fig.show()"
   ]
  },
  {
   "cell_type": "code",
   "execution_count": null,
   "metadata": {},
   "outputs": [],
   "source": [
    "res = pd.read_csv(\"log/B100_hour_SS_input_sensor53_welford_N1000_X2.csv\", index_col=\"timestamp\")\n",
    "\n",
    "res[\"status_code\"] = res[\"status_code\"].astype(str)\n",
    "res[\"value\"] = res.value.apply(lambda x: ast.literal_eval(x)[0])\n",
    "\n",
    "fig = px.scatter(res, y=\"value\", color=\"status_code\", hover_data=['value'], color_discrete_sequence=[\"blue\", \"green\", \"yellow\", \"red\"])\n",
    "fig.show()"
   ]
  },
  {
   "source": [
    "B200 sensor 52:"
   ],
   "cell_type": "markdown",
   "metadata": {}
  },
  {
   "cell_type": "code",
   "execution_count": null,
   "metadata": {},
   "outputs": [],
   "source": [
    "res = pd.read_csv(\"log/B200_hour_SS_input_sensor52_welford_N100_X2.csv\", index_col=\"timestamp\")\n",
    "\n",
    "res[\"status_code\"] = res[\"status_code\"].astype(str)\n",
    "res[\"value\"] = res.value.apply(lambda x: ast.literal_eval(x)[0])\n",
    "\n",
    "fig = px.scatter(res, y=\"value\", color=\"status_code\", hover_data=['value'], color_discrete_sequence=[\"blue\", \"red\", \"yellow\", \"green\"])\n",
    "fig.show()"
   ]
  },
  {
   "cell_type": "code",
   "execution_count": null,
   "metadata": {},
   "outputs": [],
   "source": [
    "res = pd.read_csv(\"log/B200_hour_SS_input_sensor52_welford_N200_X2.csv\", index_col=\"timestamp\")\n",
    "\n",
    "res[\"status_code\"] = res[\"status_code\"].astype(str)\n",
    "res[\"value\"] = res.value.apply(lambda x: ast.literal_eval(x)[0])\n",
    "\n",
    "fig = px.scatter(res, y=\"value\", color=\"status_code\", hover_data=['value'], color_discrete_sequence=[\"blue\", \"green\", \"red\", \"yellow\"])\n",
    "fig.show()"
   ]
  },
  {
   "cell_type": "code",
   "execution_count": null,
   "metadata": {},
   "outputs": [],
   "source": [
    "res = pd.read_csv(\"log/B200_hour_SS_input_sensor52_welford_N1000_X2.csv\", index_col=\"timestamp\")\n",
    "\n",
    "res[\"status_code\"] = res[\"status_code\"].astype(str)\n",
    "res[\"value\"] = res.value.apply(lambda x: ast.literal_eval(x)[0])\n",
    "\n",
    "fig = px.scatter(res, y=\"value\", color=\"status_code\", hover_data=['value'], color_discrete_sequence=[\"blue\", \"green\", \"yellow\", \"red\"])\n",
    "fig.show()"
   ]
  },
  {
   "source": [
    "B200 sensor 56: 200 x3"
   ],
   "cell_type": "markdown",
   "metadata": {}
  },
  {
   "cell_type": "code",
   "execution_count": null,
   "metadata": {},
   "outputs": [],
   "source": [
    "res = pd.read_csv(\"log/B200_hour_SS_input_sensor56_welford_N100_X2.csv\", index_col=\"timestamp\")\n",
    "\n",
    "res[\"status_code\"] = res[\"status_code\"].astype(str)\n",
    "res[\"value\"] = res.value.apply(lambda x: ast.literal_eval(x)[0])\n",
    "\n",
    "fig = px.scatter(res, y=\"value\", color=\"status_code\", hover_data=['value'], color_discrete_sequence=[\"blue\", \"green\", \"red\", \"yellow\"])\n",
    "fig.show()"
   ]
  },
  {
   "cell_type": "code",
   "execution_count": null,
   "metadata": {},
   "outputs": [],
   "source": [
    "res = pd.read_csv(\"log/B200_hour_SS_input_sensor56_welford_N200_X3.csv\", index_col=\"timestamp\")\n",
    "\n",
    "res[\"status_code\"] = res[\"status_code\"].astype(str)\n",
    "res[\"value\"] = res.value.apply(lambda x: ast.literal_eval(x)[0])\n",
    "\n",
    "fig = px.scatter(res, y=\"value\", color=\"status_code\", hover_data=['value'], color_discrete_sequence=[\"blue\", \"green\", \"red\", \"yellow\"])\n",
    "fig.show()"
   ]
  },
  {
   "cell_type": "code",
   "execution_count": null,
   "metadata": {},
   "outputs": [],
   "source": [
    "res = pd.read_csv(\"log/B200_hour_SS_input_sensor56_welford_N1000_X3.csv\", index_col=\"timestamp\")\n",
    "\n",
    "res[\"status_code\"] = res[\"status_code\"].astype(str)\n",
    "res[\"value\"] = res.value.apply(lambda x: ast.literal_eval(x)[0])\n",
    "\n",
    "fig = px.scatter(res, y=\"value\", color=\"status_code\", hover_data=['value'], color_discrete_sequence=[\"blue\", \"green\", \"yellow\", \"red\"])\n",
    "fig.show()"
   ]
  },
  {
   "source": [
    "B300 sensor 51: 200 x2"
   ],
   "cell_type": "markdown",
   "metadata": {}
  },
  {
   "cell_type": "code",
   "execution_count": null,
   "metadata": {},
   "outputs": [],
   "source": [
    "res = pd.read_csv(\"log/B300_hour_SS_input_sensor51_welford_N100_X2.csv\", index_col=\"timestamp\")\n",
    "\n",
    "res[\"status_code\"] = res[\"status_code\"].astype(str)\n",
    "res[\"value\"] = res.value.apply(lambda x: ast.literal_eval(x)[0])\n",
    "\n",
    "fig = px.scatter(res, y=\"value\", color=\"status_code\", hover_data=['value'], color_discrete_sequence=[\"blue\", \"green\", \"red\", \"yellow\"])\n",
    "fig.show()"
   ]
  },
  {
   "cell_type": "code",
   "execution_count": null,
   "metadata": {},
   "outputs": [],
   "source": [
    "res = pd.read_csv(\"log/B300_hour_SS_input_sensor51_welford_N200_X2.csv\", index_col=\"timestamp\")\n",
    "\n",
    "res[\"status_code\"] = res[\"status_code\"].astype(str)\n",
    "res[\"value\"] = res.value.apply(lambda x: ast.literal_eval(x)[0])\n",
    "\n",
    "fig = px.scatter(res, y=\"value\", color=\"status_code\", hover_data=['value'], color_discrete_sequence=[\"blue\", \"green\", \"red\", \"yellow\"])\n",
    "fig.show()"
   ]
  },
  {
   "cell_type": "code",
   "execution_count": null,
   "metadata": {},
   "outputs": [],
   "source": [
    "res = pd.read_csv(\"log/B300_hour_SS_input_sensor51_welford_N1000_X2.csv\", index_col=\"timestamp\")\n",
    "\n",
    "res[\"status_code\"] = res[\"status_code\"].astype(str)\n",
    "res[\"value\"] = res.value.apply(lambda x: ast.literal_eval(x)[0])\n",
    "\n",
    "fig = px.scatter(res, y=\"value\", color=\"status_code\", hover_data=['value'], color_discrete_sequence=[\"blue\", \"green\", \"yellow\", \"red\"])\n",
    "fig.show()"
   ]
  },
  {
   "source": [
    "B200 sensor 57: 200 x3"
   ],
   "cell_type": "markdown",
   "metadata": {}
  },
  {
   "cell_type": "code",
   "execution_count": null,
   "metadata": {},
   "outputs": [],
   "source": [
    "res = pd.read_csv(\"log/B300_hour_SS_input_sensor57_welford_N100_X2.csv\", index_col=\"timestamp\")\n",
    "\n",
    "res[\"status_code\"] = res[\"status_code\"].astype(str)\n",
    "res[\"value\"] = res.value.apply(lambda x: ast.literal_eval(x)[0])\n",
    "\n",
    "fig = px.scatter(res, y=\"value\", color=\"status_code\", hover_data=['value'], color_discrete_sequence=[\"blue\", \"red\", \"yellow\", \"green\"])\n",
    "fig.show()"
   ]
  },
  {
   "cell_type": "code",
   "execution_count": null,
   "metadata": {},
   "outputs": [],
   "source": [
    "res = pd.read_csv(\"log/B300_hour_SS_input_sensor57_welford_N200_X3.csv\", index_col=\"timestamp\")\n",
    "\n",
    "res[\"status_code\"] = res[\"status_code\"].astype(str)\n",
    "res[\"value\"] = res.value.apply(lambda x: ast.literal_eval(x)[0])\n",
    "\n",
    "fig = px.scatter(res, y=\"value\", color=\"status_code\", hover_data=['value'], color_discrete_sequence=[\"blue\", \"green\", \"red\", \"yellow\"])\n",
    "fig.show()"
   ]
  },
  {
   "cell_type": "code",
   "execution_count": null,
   "metadata": {},
   "outputs": [],
   "source": [
    "res = pd.read_csv(\"log/B300_hour_SS_input_sensor57_welford_N1000_X3.csv\", index_col=\"timestamp\")\n",
    "\n",
    "res[\"status_code\"] = res[\"status_code\"].astype(str)\n",
    "res[\"value\"] = res.value.apply(lambda x: ast.literal_eval(x)[0])\n",
    "\n",
    "fig = px.scatter(res, y=\"value\", color=\"status_code\", hover_data=['value'], color_discrete_sequence=[\"blue\", \"green\", \"yellow\", \"red\"])\n",
    "fig.show()"
   ]
  }
 ]
}