{
 "cells": [
  {
   "cell_type": "code",
   "execution_count": null,
   "metadata": {},
   "outputs": [],
   "source": [
    "import pandas as pd\n",
    "import sys\n",
    "import json\n",
    "import plotly.express as px\n",
    "import ast\n",
    "\n",
    "sys.path.insert(0,'../../src')\n",
    "sys.path.insert(0,'../..')\n",
    "\n",
    "from consumer import ConsumerFile\n",
    "\n"
   ]
  },
  {
   "cell_type": "code",
   "execution_count": null,
   "metadata": {},
   "outputs": [],
   "source": [
    "N = [100, 200, 1000]\n",
    "X = [0.5, 1, 2, 3]\n",
    "# manjka en senzor za pritisk\n",
    "data_files = {\n",
    "    # \"B100_hour_SS_input\": [\"53\"],\n",
    "    \"B200_hour_SS_input\": [\"52\", \"56\"],\n",
    "    \"B300_hour_SS_input\": [\"51\", \"57\"]\n",
    "    }\n",
    "base_data_location = \"../../data/JEMS/\""
   ]
  },
  {
   "cell_type": "code",
   "execution_count": null,
   "metadata": {},
   "outputs": [],
   "source": [
    "with open(\"../../configuration/JEMS/welford.json\") as c:\n",
    "    conf = json.load(c)\n",
    "    for data_file in data_files:\n",
    "        sensors = data_files[data_file]\n",
    "        data_location = base_data_location + data_file + \".csv\"\n",
    "        df = pd.read_csv(data_location) \n",
    "        for sensor in sensors:\n",
    "            # Prepare file\n",
    "            vals = df[[\"timestamp\", sensor]]\n",
    "            val_file_name = \"data/{}_sensor{}.csv\".format(data_file, sensor)\n",
    "            vals.to_csv(val_file_name, index=False)\n",
    "            conf[\"file_name\"] = val_file_name\n",
    "\n",
    "            # Loop through hyperparameters\n",
    "            for n in N:\n",
    "                for x in X:\n",
    "                    \n",
    "                    # Set configurations\n",
    "                    conf[\"anomaly_detection_conf\"][0][\"N\"] = n\n",
    "                    conf[\"anomaly_detection_conf\"][0][\"X\"] = x\n",
    "                    file_name = \"{}_sensor{}_welford_N{}_X{}.csv\".format(data_file, sensor, n, x)\n",
    "                    conf[\"anomaly_detection_conf\"][0][\"output_conf\"][0][\"file_name\"] = file_name\n",
    "\n",
    "                    # Run\n",
    "                    consumer = ConsumerFile(conf)\n",
    "                    consumer.read()\n",
    "                    print(file_name)"
   ]
  },
  {
   "cell_type": "code",
   "execution_count": null,
   "metadata": {},
   "outputs": [],
   "source": [
    "res = pd.read_csv(\"log/sensor53_welford_N1000_X2.csv\", index_col=\"timestamp\")\n",
    "\n",
    "res[\"status_code\"] = res[\"status_code\"].astype(str)\n",
    "res[\"value\"] = res.value.apply(lambda x: ast.literal_eval(x)[0])\n",
    "\n",
    "fig = px.scatter(res, y=\"value\", color=\"status_code\", hover_data=['value'], color_discrete_sequence=[\"blue\", \"green\", \"yellow\", \"red\"])\n",
    "fig.show()"
   ]
  }
 ],
 "metadata": {
  "kernelspec": {
   "display_name": "Python 3.8.0 64-bit (conda)",
   "name": "python380jvsc74a57bd0962e07b5078cd6dc30adb6d73dd27a95e9b6b13db2f80134fcc6a013dcd21ea6"
  },
  "language_info": {
   "codemirror_mode": {
    "name": "ipython",
    "version": 3
   },
   "file_extension": ".py",
   "mimetype": "text/x-python",
   "name": "python",
   "nbconvert_exporter": "python",
   "pygments_lexer": "ipython3",
   "version": "3.8.0"
  }
 },
 "nbformat": 4,
 "nbformat_minor": 2
}
