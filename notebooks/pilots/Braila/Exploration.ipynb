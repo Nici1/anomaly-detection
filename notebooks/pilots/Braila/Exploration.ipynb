{
 "cells": [
  {
   "cell_type": "code",
   "execution_count": null,
   "id": "90e9a4cb",
   "metadata": {},
   "outputs": [],
   "source": [
    "import numpy as np\n",
    "import pandas as pd\n",
    "import matplotlib.pyplot as plt"
   ]
  },
  {
   "cell_type": "code",
   "execution_count": null,
   "id": "e20fd1d1",
   "metadata": {},
   "outputs": [],
   "source": [
    "data = pd.read_csv('braila-flow-anomaly-raw.csv', sep = ';')\n",
    "\n",
    "for i in range(len(data)):\n",
    "    data['flow'][i] = float(data['flow'].values[i].replace(',', '.'))\n",
    "    data['pressure'][i] = float(data['pressure'].values[i].replace(',', '.'))"
   ]
  },
  {
   "cell_type": "code",
   "execution_count": null,
   "id": "771aa839",
   "metadata": {},
   "outputs": [],
   "source": [
    "display(data)"
   ]
  },
  {
   "cell_type": "code",
   "execution_count": null,
   "id": "3dbb15f3",
   "metadata": {},
   "outputs": [],
   "source": [
    "fig, ax = plt.subplots(figsize = (15, 4))\n",
    "\n",
    "ax.plot(data['flow'])\n",
    "ax.plot(data['pressure'])\n",
    "\n",
    "plt.ylim([0, 4])\n"
   ]
  },
  {
   "cell_type": "code",
   "execution_count": null,
   "id": "18b3ae51",
   "metadata": {},
   "outputs": [],
   "source": [
    "mins = 60\n",
    "averaged_flow = []\n",
    "\n",
    "for i in range(mins, len(data['flow']), mins):\n",
    "    averaged_flow.append(np.mean(data['flow'][i-mins:i].values))\n",
    "    \n",
    "fig, ax = plt.subplots(figsize = (15, 4))\n",
    "ax.plot(averaged_flow)"
   ]
  },
  {
   "cell_type": "code",
   "execution_count": null,
   "id": "4b555880",
   "metadata": {},
   "outputs": [],
   "source": [
    "all_data = pd.read_csv('../../data/Braila_new_data/braila_flow211306H360.csv')\n",
    "display(all_data)"
   ]
  },
  {
   "cell_type": "code",
   "execution_count": null,
   "id": "eddfac52",
   "metadata": {},
   "outputs": [],
   "source": [
    "mins = 60\n",
    "averaged_flow = []\n",
    "\n",
    "for i in range(mins, len(all_data['flow_rate_value']), mins):\n",
    "    averaged_flow.append(np.mean(all_data['flow_rate_value'][i-mins:i].values))\n",
    "    \n",
    "fig, ax = plt.subplots(figsize = (15, 4))\n",
    "ax.plot(averaged_flow[5000:7000])\n",
    "plt.ylim([0, 40])"
   ]
  },
  {
   "cell_type": "code",
   "execution_count": null,
   "id": "e1383782",
   "metadata": {},
   "outputs": [],
   "source": [
    "o = {\n",
    "    'timestamp': all_data['time'].values[2000:5000],\n",
    "    'value': averaged_flow[2000:5000]\n",
    "}\n",
    "o = pd.DataFrame(o)\n",
    "display(o)"
   ]
  },
  {
   "cell_type": "code",
   "execution_count": null,
   "id": "6b4a0464",
   "metadata": {},
   "outputs": [],
   "source": [
    "o.to_csv('braila_flow211306H360_train.csv', index = False)"
   ]
  },
  {
   "cell_type": "code",
   "execution_count": null,
   "id": "41d57ce6",
   "metadata": {},
   "outputs": [],
   "source": []
  }
 ],
 "metadata": {
  "kernelspec": {
   "display_name": "Python 3",
   "language": "python",
   "name": "python3"
  },
  "language_info": {
   "codemirror_mode": {
    "name": "ipython",
    "version": 3
   },
   "file_extension": ".py",
   "mimetype": "text/x-python",
   "name": "python",
   "nbconvert_exporter": "python",
   "pygments_lexer": "ipython3",
   "version": "3.8.5"
  }
 },
 "nbformat": 4,
 "nbformat_minor": 5
}
