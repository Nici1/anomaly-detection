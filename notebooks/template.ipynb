{
 "cells": [
  {
   "cell_type": "markdown",
   "metadata": {},
   "source": [
    "# Template for Exporatory Analysis with AD\n",
    "This template demonstrates, how to use AD from Jupyter notebook.\n",
    "\n",
    "_NOTE_: This file needs to be updated with demonstrative example."
   ]
  },
  {
   "cell_type": "markdown",
   "metadata": {},
   "source": [
    "## Imports\n",
    "Importing general data manipulation and visualization libraries as well as some helper libraries. We also import a module ConsumerFile, which enable us to interact with the system."
   ]
  },
  {
   "cell_type": "code",
   "execution_count": null,
   "metadata": {},
   "outputs": [],
   "source": [
    "# imports\n",
    "\n",
    "# general imports\n",
    "import pandas as pd\n",
    "import json\n",
    "import plotly.express as px\n",
    "import ast\n",
    "\n",
    "# local imports\n",
    "import sys\n",
    "sys.path.insert(0,'../../src')\n",
    "sys.path.insert(0,'../..')\n",
    "\n",
    "from consumer import ConsumerFile"
   ]
  },
  {
   "cell_type": "markdown",
   "metadata": {},
   "source": [
    "## Defining experimental parameters and data"
   ]
  },
  {
   "cell_type": "code",
   "execution_count": null,
   "metadata": {},
   "outputs": [],
   "source": [
    "# defining data files\n",
    "N = [100, 200, 1000]\n",
    "X = [0.5, 1, 2, 3]\n",
    "\n",
    "data_files = {\n",
    "    \"B200_hour_SS_input\": [\"52\", \"56\"],\n",
    "    \"B300_hour_SS_input\": [\"51\", \"57\"]\n",
    "}\n",
    "base_data_location = \"../../data/JEMS/\""
   ]
  },
  {
   "cell_type": "markdown",
   "metadata": {},
   "source": [
    "## Running the experiments"
   ]
  },
  {
   "cell_type": "code",
   "execution_count": null,
   "metadata": {},
   "outputs": [],
   "source": [
    "# use a configuration\n",
    "with open(\"../../configuration/JEMS/welford.json\") as c:\n",
    "    conf = json.load(c)\n",
    "    # run experiments for all data files\n",
    "    for data_file in data_files:\n",
    "        sensors = data_files[data_file]\n",
    "\n",
    "        # read data into a dataframe\n",
    "        data_location = base_data_location + data_file + \".csv\"\n",
    "        df = pd.read_csv(data_location)\n",
    "\n",
    "        # iterate over sensors\n",
    "        for sensor in sensors:\n",
    "            # prepare file\n",
    "            vals = df[[\"timestamp\", sensor]]\n",
    "            val_file_name = \"data/{}_sensor{}.csv\".format(data_file, sensor)\n",
    "            vals.to_csv(val_file_name, index=False)\n",
    "            conf[\"file_name\"] = val_file_name\n",
    "\n",
    "            # loop through hyperparameters\n",
    "            for n in N:\n",
    "                for x in X:\n",
    "                    # set configurations\n",
    "                    conf[\"anomaly_detection_conf\"][0][\"N\"] = n\n",
    "                    conf[\"anomaly_detection_conf\"][0][\"X\"] = x\n",
    "                    file_name = \"{}_sensor{}_welford_N{}_X{}.csv\".format(data_file, sensor, n, x)\n",
    "                    conf[\"anomaly_detection_conf\"][0][\"output_conf\"][0][\"file_name\"] = file_name\n",
    "\n",
    "                    # run anomaly detection\n",
    "                    consumer = ConsumerFile(conf)\n",
    "                    consumer.read()\n",
    "                    print(file_name)"
   ]
  },
  {
   "cell_type": "markdown",
   "metadata": {},
   "source": [
    "# Visualization of the results"
   ]
  },
  {
   "cell_type": "code",
   "execution_count": null,
   "metadata": {},
   "outputs": [],
   "source": [
    "# check the results from log file\n",
    "res = pd.read_csv(\"log/sensor53_welford_N1000_X2.csv\", index_col=\"timestamp\")\n",
    "\n",
    "res[\"status_code\"] = res[\"status_code\"].astype(str)\n",
    "res[\"value\"] = res.value.apply(lambda x: ast.literal_eval(x)[0])\n",
    "\n",
    "fig = px.scatter(res, y=\"value\", color=\"status_code\", hover_data=['value'], color_discrete_sequence=[\"blue\", \"green\", \"yellow\", \"red\"])\n",
    "fig.show()"
   ]
  }
 ],
 "metadata": {
  "language_info": {
   "name": "python"
  }
 },
 "nbformat": 4,
 "nbformat_minor": 2
}
