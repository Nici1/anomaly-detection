{
 "cells": [
  {
   "cell_type": "code",
   "execution_count": null,
   "id": "1f5e1426",
   "metadata": {},
   "outputs": [],
   "source": [
    "import pandas as pd\n",
    "import matplotlib.pyplot as plt\n",
    "import datetime"
   ]
  },
  {
   "cell_type": "code",
   "execution_count": null,
   "id": "73096d85",
   "metadata": {},
   "outputs": [],
   "source": [
    "files = [\n",
    "    \"alicante_salinity_EA001_36_level.csv\",\n",
    "    \"alicante_salinity_EA002_26_conductivity.csv\",\n",
    "    \"alicante_salinity_EA003_36_conductivity.csv\",\n",
    "    \"alicante_salinity_EA007_36_conductivity.csv\",\n",
    "    \"alicante_salinity_EA008_36_conductivity.csv\"\n",
    "]"
   ]
  },
  {
   "cell_type": "code",
   "execution_count": null,
   "id": "ea1d229a",
   "metadata": {},
   "outputs": [],
   "source": [
    "data = pd.read_csv(files[4], names = ['timestamp', 'value'])\n",
    "\n",
    "level = pd.read_csv(files[0])\n",
    "\n",
    "#display(data)\n",
    "#display(level)"
   ]
  },
  {
   "cell_type": "code",
   "execution_count": null,
   "id": "bc429a1e",
   "metadata": {},
   "outputs": [],
   "source": [
    "fig, ax = plt.subplots(2, 1, figsize = (15, 5))\n",
    "\n",
    "ax[0].plot(pd.to_datetime(data['timestamp'], unit = 's'), data['value'])\n",
    "ax[1].plot(pd.to_datetime(level['timestamp'], unit = 's'), level['value'])\n",
    "\n",
    "\n",
    "\n",
    "ax[0].set_xlim([datetime.datetime(2022, 2, 13), datetime.datetime(2022, 3, 23)])\n",
    "ax[1].set_xlim([datetime.datetime(2022, 2, 13), datetime.datetime(2022, 3, 23)])"
   ]
  },
  {
   "cell_type": "code",
   "execution_count": null,
   "id": "47a1258e",
   "metadata": {},
   "outputs": [],
   "source": []
  }
 ],
 "metadata": {
  "kernelspec": {
   "display_name": "Python 3",
   "language": "python",
   "name": "python3"
  },
  "language_info": {
   "codemirror_mode": {
    "name": "ipython",
    "version": 3
   },
   "file_extension": ".py",
   "mimetype": "text/x-python",
   "name": "python",
   "nbconvert_exporter": "python",
   "pygments_lexer": "ipython3",
   "version": "3.8.5"
  }
 },
 "nbformat": 4,
 "nbformat_minor": 5
}
